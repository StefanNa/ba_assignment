{
 "cells": [
  {
   "cell_type": "markdown",
   "metadata": {},
   "source": [
    "Brainstorm data sources\n",
    "Metro stations\n",
    "Weather\n",
    "Popularity (instagram checkins)\n",
    "Altitude\n",
    "Crime\n",
    "Population data (migration)\n",
    "Employers\n",
    "Distance to a McDonald\n",
    "Whatever distance\n",
    "Cluster similar housing prices\n",
    "Closest green areas\n",
    "Traffic (big roads)\n",
    "Noise\n",
    "Politics \n",
    "Ethnicity\n",
    "Age\n",
    "Supermarkets\n",
    "\n",
    "Plan:\n",
    "find exploratory question + backup\n",
    "See what data would most relevant based on brainstorm\n",
    "Get data (API, scraping, whatever)\n",
    "Clean data, preliminary analysis\n",
    "Make model(s) for prediction question\n",
    "Make model for exploratory question"
   ]
  }
 ],
 "metadata": {
  "kernelspec": {
   "display_name": "Python 3",
   "language": "python",
   "name": "python3"
  },
  "language_info": {
   "codemirror_mode": {
    "name": "ipython",
    "version": 3
   },
   "file_extension": ".py",
   "mimetype": "text/x-python",
   "name": "python",
   "nbconvert_exporter": "python",
   "pygments_lexer": "ipython3",
   "version": "3.7.4"
  }
 },
 "nbformat": 4,
 "nbformat_minor": 2
}
