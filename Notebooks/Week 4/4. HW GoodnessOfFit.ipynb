{
 "cells": [
  {
   "cell_type": "markdown",
   "metadata": {},
   "source": [
    "## Goodness of fit measures"
   ]
  },
  {
   "cell_type": "markdown",
   "metadata": {},
   "source": [
    "Following the notebook that we ran in the class, in the current notebook we would like to show you ways to understand if the variables that you add in your model \"matter\" and how significant they are. "
   ]
  },
  {
   "cell_type": "code",
   "execution_count": 29,
   "metadata": {
    "collapsed": true
   },
   "outputs": [],
   "source": [
    "# Import the necessary libraries\n",
    "import pandas as pd\n",
    "from matplotlib import pyplot as plt\n",
    "%matplotlib inline  \n",
    "import numpy as np\n",
    "from sklearn import datasets, linear_model"
   ]
  },
  {
   "cell_type": "markdown",
   "metadata": {},
   "source": [
    "We will use again the NYC dataset, with **minute** and **hour** as the variables of our model (a model already analyzed in the class)..."
   ]
  },
  {
   "cell_type": "code",
   "execution_count": 30,
   "metadata": {},
   "outputs": [
    {
     "name": "stdout",
     "output_type": "stream",
     "text": [
      "[[  1.02632496e+02   1.09022384e+01   3.85391811e-02]]\n"
     ]
    }
   ],
   "source": [
    "f=pd.read_csv(\"pickups_zone_1_15min.csv\")\n",
    "\n",
    "x=np.c_[np.ones(len(f)),f['hour'], f['minute']]\n",
    "y= np.array(f['pickups'], ndmin=2).T\n",
    "\n",
    "regr=linear_model.LinearRegression(fit_intercept=False)\n",
    "regr.fit(x, y);\n",
    "print(regr.coef_)"
   ]
  },
  {
   "cell_type": "code",
   "execution_count": 31,
   "metadata": {},
   "outputs": [
    {
     "data": {
      "image/png": "[encoded data removed]",
      "text/plain": [
       "<matplotlib.figure.Figure at 0x11a43bcf8>"
      ]
     },
     "metadata": {},
     "output_type": "display_data"
    }
   ],
   "source": [
    "plt.scatter(y, regr.predict(x))\n",
    "plt.xlabel(\"predicted\")\n",
    "plt.ylabel(\"observed\")\n",
    "plt.plot([0, 400], [0, 400], color=\"red\")\n",
    "plt.show()"
   ]
  },
  {
   "cell_type": "markdown",
   "metadata": {},
   "source": [
    "As we have already noticed from the plot above, the chosen variables don't allow the formulation of a proper, accurate model. We should add more information in order to have better predictions."
   ]
  },
  {
   "cell_type": "markdown",
   "metadata": {},
   "source": [
    "The new model that we may choose to formulate should be compared with the current one, not only by observing a predictedVSobserved plot, but also by using the goodness-of-fit measures. They typically summarize the discrepancy between observed values and the values expected under the model in question. Their main categories are presented below:\n",
    "\n",
    "\n",
    "* **Error measures in the estimation period:** root mean squared error, mean absolute error, mean absolute percentage error, mean absolute scaled error, mean error, mean percentage error\n",
    "* **Error measures in the validation period** (if you have done out-of-sample testing)\n",
    "* **Residual diagnostics and goodness-of-fit tests:** plots of actual and predicted values; plots of residuals versus time, versus predicted values, and versus other variables; residual autocorrelation plots, cross-correlation plots, and tests for normally distributed errors; measures of extreme or influential observations; tests for excessive runs, changes in mean, or changes in variance etc.\n",
    "\n",
    "In the current notebook, we will focus on the first category."
   ]
  },
  {
   "cell_type": "markdown",
   "metadata": {},
   "source": [
    "If there is any one statistic that normally takes precedence over the others, it is the **root mean squared error (RMSE)**, which is the square root of the mean squared error. This is the statistic whose value is minimized during the parameter estimation process, and it is the statistic that determines the width of the confidence intervals for predictions.\n",
    "\n",
    "$RMSE = \\sqrt{\\frac{\\sum_{t=1}^{n}(\\hat{y_{t}}-y_{t})^2}{n}} $\n",
    "\n",
    "where $\\hat{y_{t}}$ is the predicted or estimated value and $y_{t}$ is the regression's actual observation. Finally the n represents the number of non-missing data points.\n",
    "\n",
    "The function that calculates the RMSE is:"
   ]
  },
  {
   "cell_type": "code",
   "execution_count": 32,
   "metadata": {
    "collapsed": true
   },
   "outputs": [],
   "source": [
    "def rmse(y_pred, y_true):\n",
    "    return np.sqrt(np.mean((y_pred - y_true)**2))"
   ]
  },
  {
   "cell_type": "code",
   "execution_count": 33,
   "metadata": {},
   "outputs": [
    {
     "data": {
      "text/plain": [
       "99.831371484958041"
      ]
     },
     "execution_count": 33,
     "metadata": {},
     "output_type": "execute_result"
    }
   ],
   "source": [
    "rmse(regr.predict(x), y)"
   ]
  },
  {
   "cell_type": "markdown",
   "metadata": {},
   "source": [
    "For a datum which ranges from 0 to 1000, an RMSE of 0.7 is small, but if the range goes from 0 to 1, it is not that small anymore. However, although the smaller the RMSE, the better, you can make theoretical claims on levels of the RMSE by knowing what is expected from your dependent variable in your field of research. Keep in mind that you can always normalize the RMSE."
   ]
  },
  {
   "cell_type": "markdown",
   "metadata": {},
   "source": [
    "The **mean absolute error (MAE)** is also measured in the same units as the data, and is usually similar in magnitude to, but slightly smaller than, the root mean squared error.  It is less sensitive to the occasional very large error because it does not square the errors in the calculation. It is the average vertical distance between each point and the Y=X line, which is also known as the One-to-One line.\n",
    "\n",
    "$$ MAE = \\frac{\\sum_{t=1}^{n}\\left |\\hat{y_{t}}-y_{t}\\right |}{n}$$\n",
    "\n",
    "where $\\hat{y_{t}}$ is the predicted or estimated value and $y_{t}$ is the regression's actual observations."
   ]
  },
  {
   "cell_type": "code",
   "execution_count": 34,
   "metadata": {
    "collapsed": true
   },
   "outputs": [],
   "source": [
    "def mae(y_pred, y_true):\n",
    "    return np.mean(np.abs(y_pred - y_true))"
   ]
  },
  {
   "cell_type": "code",
   "execution_count": 35,
   "metadata": {},
   "outputs": [
    {
     "data": {
      "text/plain": [
       "80.599425703467858"
      ]
     },
     "execution_count": 35,
     "metadata": {},
     "output_type": "execute_result"
    }
   ],
   "source": [
    "mae(regr.predict(x), y)"
   ]
  },
  {
   "cell_type": "markdown",
   "metadata": {},
   "source": [
    "The **mean absolute percentage error (MAPE)** is also often useful for purposes of reporting, because it is expressed in generic percentage terms which will make some kind of sense even to someone who has no idea what constitutes a \"big\" error in terms of dollars spent or widgets sold. The MAPE can only be computed with respect to data that are guaranteed to be strictly positive, so if this statistic is missing from your output where you would normally expect to see it, it’s possible that it has been **suppressed due to negative data values**.\n",
    "\n",
    "$$MAPE = \\frac{100}{N}\\times \\sum_{t=1}^{n}\\left |\\frac{y_{t}-\\hat{y_{t}}}{y_{t}} \\right |$$"
   ]
  },
  {
   "cell_type": "code",
   "execution_count": 36,
   "metadata": {
    "collapsed": true
   },
   "outputs": [],
   "source": [
    "def mape(y_pred, y_true):\n",
    "    return np.mean(np.abs((y_true - y_pred) / y_true)) * 100"
   ]
  },
  {
   "cell_type": "code",
   "execution_count": 37,
   "metadata": {},
   "outputs": [
    {
     "name": "stderr",
     "output_type": "stream",
     "text": [
      "/Users/imarkou/anaconda/envs/py3env/lib/python3.5/site-packages/ipykernel_launcher.py:2: RuntimeWarning: divide by zero encountered in true_divide\n",
      "  \n"
     ]
    },
    {
     "data": {
      "text/plain": [
       "inf"
      ]
     },
     "execution_count": 37,
     "metadata": {},
     "output_type": "execute_result"
    }
   ],
   "source": [
    "mape(regr.predict(x), y)"
   ]
  },
  {
   "cell_type": "markdown",
   "metadata": {},
   "source": [
    "As you can see in our example, it cannot be used if there are zero values (which sometimes happens for example in demand data) because there would be a division by zero."
   ]
  },
  {
   "cell_type": "markdown",
   "metadata": {},
   "source": [
    "**R-squared** is the “percent of variance explained” by the model.  That is, R-squared is the fraction by which the variance of the errors is less than the variance of the dependent variable.  (The latter number would be the error variance for a constant-only model, which merely predicts that every observation will equal the sample mean.)  It is called R-squared because in a simple regression model it is just the square of the correlation between the dependent and independent variables, which is commonly denoted by “r”. \n",
    "\n",
    "If $\\bar{y}$ is the mean of the observed data:\n",
    "\n",
    "$$ \\bar{y} = \\frac{1}{n}\\sum_{i=1}^{n}y_i $$\n",
    "\n",
    "then the variability of the data set can be measured using the following **sum of squares** formulas:\n",
    "\n",
    "* The total sum of squares (proportional to the variable of the data):\n",
    "\n",
    "$$ SS_{tot} = \\sum_{i}^{ }(y_i-\\bar{y})^2 $$\n",
    "\n",
    "* The sum of squares of residuals, also called the residual sum of squares:\n",
    "\n",
    "$$ SS_{res} = \\sum_{i}^{ }(y_i-\\hat{y})^2 $$\n",
    "\n",
    "And the general definition of the coefficient of determination is:\n",
    "\n",
    "$$ R^2 \\equiv 1 - \\frac{SS_{res}}{SS_{tot}} $$\n",
    "\n",
    "An **R-squared** of 1 indicates that the regression line perfectly fits the data."
   ]
  },
  {
   "cell_type": "code",
   "execution_count": 38,
   "metadata": {
    "collapsed": true
   },
   "outputs": [],
   "source": [
    "def r2(y_pred, y_true):\n",
    "    return max(0, 1 - np.sum((y_true-y_pred)**2) / np.sum((y_true - np.mean(y_true))**2))"
   ]
  },
  {
   "cell_type": "code",
   "execution_count": 39,
   "metadata": {},
   "outputs": [
    {
     "data": {
      "text/plain": [
       "0.36366501763760017"
      ]
     },
     "execution_count": 39,
     "metadata": {},
     "output_type": "execute_result"
    }
   ],
   "source": [
    "r2(regr.predict(x), y)"
   ]
  },
  {
   "cell_type": "markdown",
   "metadata": {},
   "source": [
    "The use of an **adjusted R-squared** is an attempt to take account of the phenomenon of the **R-squared** automatically and spuriously increasing when extra explanatory variables are added to the model. It is a modification due to Henri Theil of **R-squared** that adjusts for the number of explanatory terms in a model relative to the number of data points. The **adjusted R-squared** can be negative, and its value will always be less than or equal to that of **R-squared**. \n",
    "\n",
    "$$\\bar{R}^2 = R^2 - (1 - R^2)\\frac{n-1}{n-p-1}$$\n",
    "\n",
    "where $p$ is the total number of explanatory variables in the model (not including the constant term), and $n$ is the sample size."
   ]
  },
  {
   "cell_type": "code",
   "execution_count": 40,
   "metadata": {
    "collapsed": true
   },
   "outputs": [],
   "source": [
    "def adjustedr2(y_pred, y_true, nvariables):\n",
    "    r_squared = max(0, 1 - np.sum((y_true-y_pred)**2) / np.sum((y_true - np.mean(y_true))**2))\n",
    "    return 1 - (1-r_squared)*(len(y_true)-1)/(len(y_true)-nvariables-1)"
   ]
  },
  {
   "cell_type": "code",
   "execution_count": 41,
   "metadata": {},
   "outputs": [
    {
     "data": {
      "text/plain": [
       "0.36366017573471165"
      ]
     },
     "execution_count": 41,
     "metadata": {},
     "output_type": "execute_result"
    }
   ],
   "source": [
    "adjustedr2(regr.predict(x), y, 2)"
   ]
  },
  {
   "cell_type": "markdown",
   "metadata": {},
   "source": [
    "Last but not least, the **Pearson’s correlation coefficient** is a measure of the linear correlation between two variables X and Y. It has a value between +1 and −1, where 1 is total positive linear correlation, 0 is no linear correlation, and −1 is total negative linear correlation. \n",
    "\n",
    "The formula for $\\rho$ is:\n",
    "\n",
    "$$\\rho_{X,Y} = \\frac{cov(X,Y)}{\\sigma _X\\sigma _Y}$$\n",
    "\n",
    "where:\n",
    "\n",
    "* $cov$ is the covarianve\n",
    "* $\\sigma _{X}$ is the standard deviation of X\n",
    "* $\\sigma_Y$  is the standard deviation of Y\n",
    "\n",
    "The Pearson’s correlation coefficient can be calculated using the **scipy** package:"
   ]
  },
  {
   "cell_type": "code",
   "execution_count": 42,
   "metadata": {},
   "outputs": [
    {
     "name": "stdout",
     "output_type": "stream",
     "text": [
      "(array([ 0.60304645]), array([ 0.]))\n"
     ]
    }
   ],
   "source": [
    "from scipy.stats.stats import pearsonr\n",
    "\n",
    "# It returns Pearson's correlation coefficient, 2-tailed p-value\n",
    "rho2 = pearsonr(regr.predict(x), y)\n",
    "print(rho2)"
   ]
  },
  {
   "cell_type": "markdown",
   "metadata": {},
   "source": [
    "or the **numpy** package:"
   ]
  },
  {
   "cell_type": "code",
   "execution_count": 43,
   "metadata": {
    "collapsed": true
   },
   "outputs": [],
   "source": [
    "y_pred = regr.predict(x)[:,0]\n",
    "y_true = y[:,0]"
   ]
  },
  {
   "cell_type": "code",
   "execution_count": 44,
   "metadata": {
    "scrolled": true
   },
   "outputs": [
    {
     "data": {
      "text/plain": [
       "array([[ 1.        ,  0.60304645],\n",
       "       [ 0.60304645,  1.        ]])"
      ]
     },
     "execution_count": 44,
     "metadata": {},
     "output_type": "execute_result"
    }
   ],
   "source": [
    "np.corrcoef(y_pred,y_true)"
   ]
  },
  {
   "cell_type": "markdown",
   "metadata": {},
   "source": [
    "So, now you can create a function that calculates all this goodness of fit measures, and reuse is as often as you want!"
   ]
  },
  {
   "cell_type": "code",
   "execution_count": 45,
   "metadata": {
    "collapsed": true
   },
   "outputs": [],
   "source": [
    "def compute_error(y_true, y_pred, nvariables = 2):\n",
    "    corr = np.corrcoef(y_pred[:,0], y_true[:,0])[0,1]\n",
    "    rho2 = pearsonr(y_pred, y_true)[0]\n",
    "    mae = np.mean(np.abs(y_pred - y_true))\n",
    "    mape = np.mean(np.abs((y_true - y_pred) / y_true)) * 100\n",
    "    rmse = np.sqrt(np.mean((y_pred - y_true)**2))\n",
    "    r_squared = max(0, 1 - np.sum((y_true-y_pred)**2) / np.sum((y_true - np.mean(y_true))**2))\n",
    "    adjustedr2 = 1 - (1-r_squared)*(len(y_true)-1)/(len(y_true)-nvariables-1)\n",
    "    return  corr, rho2, mae, mape, rmse, r_squared, adjustedr2"
   ]
  },
  {
   "cell_type": "code",
   "execution_count": 46,
   "metadata": {},
   "outputs": [
    {
     "name": "stdout",
     "output_type": "stream",
     "text": [
      "Pearson’s correlation coefficient =  0.60304644733\n",
      "Mean Absolute Error =  80.5994257035\n",
      "Mean Absolute Percentage Error =  inf\n",
      "R-squared =  0.363665017638\n",
      "Adjusted R-squared =  0.363660175735\n",
      "Root Mean Squared Error =  99.831371485\n"
     ]
    },
    {
     "name": "stderr",
     "output_type": "stream",
     "text": [
      "/Users/imarkou/anaconda/envs/py3env/lib/python3.5/site-packages/ipykernel_launcher.py:5: RuntimeWarning: divide by zero encountered in true_divide\n",
      "  \"\"\"\n"
     ]
    }
   ],
   "source": [
    "corr, rho2, mae, mape, rmse, r_squared, adjustedr2 = compute_error(y, regr.predict(x))\n",
    "\n",
    "print(\"Pearson’s correlation coefficient = \", rho2[0])\n",
    "print(\"Mean Absolute Error = \", mae)\n",
    "print(\"Mean Absolute Percentage Error = \", mape)\n",
    "print(\"R-squared = \", r_squared)\n",
    "print(\"Adjusted R-squared = \", adjustedr2)\n",
    "print(\"Root Mean Squared Error = \", rmse)"
   ]
  },
  {
   "cell_type": "markdown",
   "metadata": {},
   "source": [
    "Let's see how these values change by adding more information in our model (lags). We will use the same code from the class-notebook."
   ]
  },
  {
   "cell_type": "code",
   "execution_count": 47,
   "metadata": {
    "collapsed": true
   },
   "outputs": [],
   "source": [
    "def buildLaggedFeatures(s,columns, lag=2,dropna=True):\n",
    "    '''\n",
    "    From http://stackoverflow.com/questions/20410312/how-to-create-a-lagged-data-structure-using-pandas-dataframe\n",
    "    Builds a new DataFrame to facilitate regressing over all possible lagged features\n",
    "    '''\n",
    "    if type(s) is pd.DataFrame:\n",
    "        new_dict={}\n",
    "        for c in s.columns:\n",
    "            new_dict[c]=s[c]\n",
    "        for col_name in columns:\n",
    "            new_dict[col_name]=s[col_name]\n",
    "            # create lagged Series\n",
    "            for l in range(1,lag+1):\n",
    "                new_dict['%s_lag%d' %(col_name,l)]=s[col_name].shift(l)\n",
    "        res=pd.DataFrame(new_dict,index=s.index)\n",
    "\n",
    "    elif type(s) is pd.Series:\n",
    "        the_range=range(lag+1)\n",
    "        res=pd.concat([s.shift(i) for i in the_range],axis=1)\n",
    "        res.columns=['lag_%d' %i for i in the_range]\n",
    "    else:\n",
    "        print('Only works for DataFrame or Series')\n",
    "        return None\n",
    "    if dropna:\n",
    "        return res.dropna()\n",
    "    else:\n",
    "        return res "
   ]
  },
  {
   "cell_type": "code",
   "execution_count": 48,
   "metadata": {
    "collapsed": true
   },
   "outputs": [],
   "source": [
    "f_lagged=buildLaggedFeatures(f, ['pickups'], lag=2)\n",
    "fllen=len(f_lagged)"
   ]
  },
  {
   "cell_type": "code",
   "execution_count": 49,
   "metadata": {
    "collapsed": true
   },
   "outputs": [],
   "source": [
    "x=np.c_[np.ones(len(f_lagged)),f_lagged['pickups_lag1'], f_lagged['pickups_lag2']]\n",
    "y=np.array(f_lagged['pickups'], ndmin=2).T"
   ]
  },
  {
   "cell_type": "code",
   "execution_count": 50,
   "metadata": {
    "collapsed": true
   },
   "outputs": [],
   "source": [
    "regr=linear_model.LinearRegression(fit_intercept=False)\n",
    "regr.fit(x, y);"
   ]
  },
  {
   "cell_type": "code",
   "execution_count": 51,
   "metadata": {},
   "outputs": [
    {
     "name": "stdout",
     "output_type": "stream",
     "text": [
      "Pearson’s correlation coefficient =  0.976706509169\n",
      "Mean Absolute Error =  20.390876784\n",
      "Mean Absolute Percentage Error =  inf\n",
      "R-squared =  0.953955605053\n",
      "Adjusted R-squared =  0.953955254697\n",
      "Root Mean Squared Error =  26.8541372189\n"
     ]
    },
    {
     "name": "stderr",
     "output_type": "stream",
     "text": [
      "/Users/imarkou/anaconda/envs/py3env/lib/python3.5/site-packages/ipykernel_launcher.py:5: RuntimeWarning: divide by zero encountered in true_divide\n",
      "  \"\"\"\n"
     ]
    }
   ],
   "source": [
    "corr, rho2, mae, mape, rmse, r_squared, adjustedr2 = compute_error(y, regr.predict(x))\n",
    "\n",
    "print(\"Pearson’s correlation coefficient = \", rho2[0])\n",
    "print(\"Mean Absolute Error = \", mae)\n",
    "print(\"Mean Absolute Percentage Error = \", mape)\n",
    "print(\"R-squared = \", r_squared)\n",
    "print(\"Adjusted R-squared = \", adjustedr2)\n",
    "print(\"Root Mean Squared Error = \", rmse)"
   ]
  },
  {
   "cell_type": "markdown",
   "metadata": {
    "collapsed": true
   },
   "source": [
    "Waaaaay better! :-)"
   ]
  },
  {
   "cell_type": "code",
   "execution_count": null,
   "metadata": {
    "collapsed": true
   },
   "outputs": [],
   "source": []
  }
 ],
 "metadata": {
  "kernelspec": {
   "display_name": "Python 3",
   "language": "python",
   "name": "python3"
  },
  "language_info": {
   "codemirror_mode": {
    "name": "ipython",
    "version": 3
   },
   "file_extension": ".py",
   "mimetype": "text/x-python",
   "name": "python",
   "nbconvert_exporter": "python",
   "pygments_lexer": "ipython3",
   "version": "3.5.4"
  }
 },
 "nbformat": 4,
 "nbformat_minor": 2
}
