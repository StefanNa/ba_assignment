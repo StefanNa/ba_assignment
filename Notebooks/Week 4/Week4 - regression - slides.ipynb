{
 "cells": [
  {
   "cell_type": "code",
   "execution_count": 3,
   "metadata": {
    "collapsed": false
   },
   "outputs": [],
   "source": [
    "import pandas as pd\n",
    "from matplotlib import pyplot as plt\n",
    "%matplotlib inline  \n",
    "import numpy as np\n",
    "from sklearn import datasets, linear_model"
   ]
  },
  {
   "cell_type": "code",
   "execution_count": 4,
   "metadata": {
    "collapsed": true
   },
   "outputs": [],
   "source": [
    "def my_plot(regr, x, y, xlab=\"x\", ylab=\"y\", size=0.1, reg=True):\n",
    "\n",
    "    # The coefficients\n",
    "    print('Coefficients: \\n', regr.coef_)\n",
    "    # The mean squared error\n",
    "    print(\"Root Mean squared error: %.2f\"\n",
    "          % np.sqrt(np.mean((regr.predict(x) - y) ** 2)))\n",
    "    # Explained variance score: 1 is perfect prediction\n",
    "    print('Variance score: %.2f' % regr.score(x, y))\n",
    "\n",
    "    if x.shape[1]>1:\n",
    "        x_uni=x[:,1]\n",
    "    else:\n",
    "        x_uni=x\n",
    "            \n",
    "    # Plot outputs\n",
    "    plt.scatter(x_uni, y,  color='black', s=size)\n",
    "    if reg:\n",
    "        plt.plot(x_uni, regr.predict(x), color='blue',linewidth=3)\n",
    "    plt.rc('xtick', labelsize=10)    # fontsize of the tick labels\n",
    "    plt.rc('ytick', labelsize=10)    # fontsize of the tick labels\n",
    "    plt.xlabel(xlab)\n",
    "    plt.ylabel(ylab)\n",
    "\n",
    "    plt.show()"
   ]
  },
  {
   "cell_type": "code",
   "execution_count": 5,
   "metadata": {
    "collapsed": true
   },
   "outputs": [],
   "source": [
    "def generate_simple_model(X, beta0, beta1, sigma2):\n",
    "    return [beta0+x*beta1+np.random.normal(scale=sigma2) for x in X]\n",
    "\n",
    "def plot_simple_data(X, y, alpha=0.001):\n",
    "    plt.scatter(X, y)\n",
    "    plt.xlabel(\"x\")\n",
    "    plt.ylabel(\"y\")"
   ]
  },
  {
   "cell_type": "code",
   "execution_count": 25,
   "metadata": {
    "collapsed": false
   },
   "outputs": [
    {
     "data": {
      "text/plain": [
       "Index(['date', 'hour', 'minute', 'pickups'], dtype='object')"
      ]
     },
     "execution_count": 25,
     "metadata": {},
     "output_type": "execute_result"
    }
   ],
   "source": [
    "f=pd.read_csv(\"pickups_zone_1_15min.csv\")\n",
    "f.columns"
   ]
  },
  {
   "cell_type": "code",
   "execution_count": 7,
   "metadata": {
    "collapsed": false
   },
   "outputs": [
    {
     "data": {
      "text/html": [
       "<div>\n",
       "<style>\n",
       "    .dataframe thead tr:only-child th {\n",
       "        text-align: right;\n",
       "    }\n",
       "\n",
       "    .dataframe thead th {\n",
       "        text-align: left;\n",
       "    }\n",
       "\n",
       "    .dataframe tbody tr th {\n",
       "        vertical-align: top;\n",
       "    }\n",
       "</style>\n",
       "<table border=\"1\" class=\"dataframe\">\n",
       "  <thead>\n",
       "    <tr style=\"text-align: right;\">\n",
       "      <th></th>\n",
       "      <th>date</th>\n",
       "      <th>hour</th>\n",
       "      <th>minute</th>\n",
       "      <th>pickups</th>\n",
       "    </tr>\n",
       "  </thead>\n",
       "  <tbody>\n",
       "    <tr>\n",
       "      <th>0</th>\n",
       "      <td>2009-01-01</td>\n",
       "      <td>0</td>\n",
       "      <td>0</td>\n",
       "      <td>0</td>\n",
       "    </tr>\n",
       "    <tr>\n",
       "      <th>1</th>\n",
       "      <td>2009-01-01</td>\n",
       "      <td>0</td>\n",
       "      <td>15</td>\n",
       "      <td>166</td>\n",
       "    </tr>\n",
       "    <tr>\n",
       "      <th>2</th>\n",
       "      <td>2009-01-01</td>\n",
       "      <td>0</td>\n",
       "      <td>30</td>\n",
       "      <td>215</td>\n",
       "    </tr>\n",
       "    <tr>\n",
       "      <th>3</th>\n",
       "      <td>2009-01-01</td>\n",
       "      <td>0</td>\n",
       "      <td>45</td>\n",
       "      <td>223</td>\n",
       "    </tr>\n",
       "    <tr>\n",
       "      <th>4</th>\n",
       "      <td>2009-01-01</td>\n",
       "      <td>1</td>\n",
       "      <td>0</td>\n",
       "      <td>245</td>\n",
       "    </tr>\n",
       "  </tbody>\n",
       "</table>\n",
       "</div>"
      ],
      "text/plain": [
       "         date  hour  minute  pickups\n",
       "0  2009-01-01     0       0        0\n",
       "1  2009-01-01     0      15      166\n",
       "2  2009-01-01     0      30      215\n",
       "3  2009-01-01     0      45      223\n",
       "4  2009-01-01     1       0      245"
      ]
     },
     "execution_count": 7,
     "metadata": {},
     "output_type": "execute_result"
    }
   ],
   "source": [
    "f.head()"
   ]
  },
  {
   "cell_type": "code",
   "execution_count": 8,
   "metadata": {
    "collapsed": false
   },
   "outputs": [
    {
     "data": {
      "image/png": "[encoded data removed]",
      "text/plain": [
       "<matplotlib.figure.Figure at 0x10cae94a8>"
      ]
     },
     "metadata": {},
     "output_type": "display_data"
    }
   ],
   "source": [
    "plt.figure(1)\n",
    "plt.subplot(221)\n",
    "plt.title(\"pickups\")\n",
    "plt.hist(f['pickups'], bins='auto')\n",
    "z=plt.subplot(222)\n",
    "plt.title(\"hour\")\n",
    "plt.hist(f['hour'], bins='auto')\n",
    "plt.subplot(223)\n",
    "plt.title(\"minute\")\n",
    "plt.hist(f['minute'], bins='auto')\n",
    "plt.tight_layout()\n",
    "plt.show()"
   ]
  },
  {
   "cell_type": "code",
   "execution_count": 9,
   "metadata": {
    "collapsed": true
   },
   "outputs": [],
   "source": [
    "y=np.array(f['pickups'], ndmin=2).T"
   ]
  },
  {
   "cell_type": "code",
   "execution_count": 10,
   "metadata": {
    "collapsed": false
   },
   "outputs": [],
   "source": [
    "y2=np.array(f['pickups']).T"
   ]
  },
  {
   "cell_type": "code",
   "execution_count": 11,
   "metadata": {
    "collapsed": false
   },
   "outputs": [
    {
     "data": {
      "text/plain": [
       "array([  0, 166, 215, ..., 283, 276, 230])"
      ]
     },
     "execution_count": 11,
     "metadata": {},
     "output_type": "execute_result"
    }
   ],
   "source": [
    "y2"
   ]
  },
  {
   "cell_type": "code",
   "execution_count": 12,
   "metadata": {
    "collapsed": false
   },
   "outputs": [
    {
     "data": {
      "image/png": "[encoded data removed]",
      "text/plain": [
       "<matplotlib.figure.Figure at 0x10cae90b8>"
      ]
     },
     "metadata": {},
     "output_type": "display_data"
    }
   ],
   "source": [
    "\n",
    "plt.plot([0,24], [10, 70])\n",
    "plt.plot([5,24], [0, 90])\n",
    "plt.plot([0,24], [80, 30])\n",
    "plt.xlabel(\"hour\")\n",
    "plt.ylabel(\"pickups\")\n",
    "plt.annotate('?', xy=(15, 60), xytext=(15, 60), fontsize=40)\n",
    "plt.show()"
   ]
  },
  {
   "cell_type": "code",
   "execution_count": 13,
   "metadata": {
    "collapsed": false
   },
   "outputs": [
    {
     "name": "stderr",
     "output_type": "stream",
     "text": [
      "//anaconda/envs/snakes/lib/python3.6/site-packages/scipy/linalg/basic.py:1018: RuntimeWarning: internal gelsd driver lwork query error, required iwork dimension not returned. This is likely the result of LAPACK bug 0038, fixed in LAPACK 3.2.2 (released July 21, 2010). Falling back to 'gelss' driver.\n",
      "  warnings.warn(mesg, RuntimeWarning)\n"
     ]
    },
    {
     "name": "stdout",
     "output_type": "stream",
     "text": [
      "Coefficients: \n",
      " [[ 103.49962716   10.90223842]]\n",
      "Root Mean squared error: 99.83\n",
      "Variance score: 0.36\n"
     ]
    },
    {
     "data": {
      "image/png": "[encoded data removed]",
      "text/plain": [
       "<matplotlib.figure.Figure at 0x106c3f160>"
      ]
     },
     "metadata": {},
     "output_type": "display_data"
    }
   ],
   "source": [
    "regr=linear_model.LinearRegression(fit_intercept=False)\n",
    "x= np.c_[np.ones(len(f)),f['hour']]\n",
    "regr.fit(x, y)\n",
    "my_plot(regr, x, y, \"hour\", \"pickups\", False)"
   ]
  },
  {
   "cell_type": "code",
   "execution_count": 18,
   "metadata": {
    "collapsed": false
   },
   "outputs": [
    {
     "name": "stdout",
     "output_type": "stream",
     "text": [
      "(262848, 2) (262848, 1)\n"
     ]
    }
   ],
   "source": [
    "x= np.c_[np.ones(len(f)),f['hour']]\n",
    "y= np.array(f['pickups'], ndmin=2).T\n",
    "print(x.shape, y.shape)"
   ]
  },
  {
   "cell_type": "code",
   "execution_count": 19,
   "metadata": {
    "collapsed": false
   },
   "outputs": [
    {
     "data": {
      "text/plain": [
       "LinearRegression(copy_X=True, fit_intercept=False, n_jobs=1, normalize=False)"
      ]
     },
     "execution_count": 19,
     "metadata": {},
     "output_type": "execute_result"
    }
   ],
   "source": [
    "regr=linear_model.LinearRegression(fit_intercept=False)\n",
    "regr.fit(x, y)"
   ]
  },
  {
   "cell_type": "code",
   "execution_count": 20,
   "metadata": {
    "collapsed": false
   },
   "outputs": [
    {
     "data": {
      "image/png": "[encoded data removed]",
      "text/plain": [
       "<matplotlib.figure.Figure at 0x10be98a90>"
      ]
     },
     "metadata": {},
     "output_type": "display_data"
    }
   ],
   "source": [
    "plt.scatter(f['hour'], y, s=0.1)\n",
    "plt.plot(f['hour'], regr.predict(x), color='blue',linewidth=3)\n",
    "plt.xlabel( \"hour\")\n",
    "plt.ylabel(\"pickups\")\n",
    "plt.show()"
   ]
  },
  {
   "cell_type": "code",
   "execution_count": 21,
   "metadata": {
    "collapsed": false
   },
   "outputs": [
    {
     "name": "stdout",
     "output_type": "stream",
     "text": [
      "Average error (AE): -0.00\n",
      "Mean Absolute error (MAE): 80.60\n",
      "Root Mean squared error: 99.83\n"
     ]
    }
   ],
   "source": [
    "print(\"Average error (AE): %.2f\" % np.mean(regr.predict(x) - y))\n",
    "print(\"Mean Absolute error (MAE): %.2f\"% np.mean(abs(regr.predict(x) - y)))\n",
    "# The mean squared error\n",
    "print(\"Root Mean squared error: %.2f\"\n",
    "      % np.sqrt(np.mean((regr.predict(x) - y) ** 2)))"
   ]
  },
  {
   "cell_type": "code",
   "execution_count": 22,
   "metadata": {
    "collapsed": false
   },
   "outputs": [
    {
     "name": "stdout",
     "output_type": "stream",
     "text": [
      "Coefficients: \n",
      " [[ 103.49962716   10.90223842]]\n",
      "Root Mean squared error: 93.24\n",
      "Variance score: -0.94\n"
     ]
    },
    {
     "data": {
      "image/png": "[encoded data removed]",
      "text/plain": [
       "<matplotlib.figure.Figure at 0x105af5860>"
      ]
     },
     "metadata": {},
     "output_type": "display_data"
    }
   ],
   "source": [
    "my_plot(regr, x[:9], y[:9], \"hour\", \"pickups\", size=10, reg=False)"
   ]
  },
  {
   "cell_type": "markdown",
   "metadata": {},
   "source": [
    "Hmm... is the hour really telling us something?\n",
    "\n",
    "Would minute be better?"
   ]
  },
  {
   "cell_type": "code",
   "execution_count": 23,
   "metadata": {
    "collapsed": false
   },
   "outputs": [
    {
     "name": "stdout",
     "output_type": "stream",
     "text": [
      "[[  2.28008237e+02   3.85391811e-02]]\n",
      "Mean Absolute error (MAE): 105.39\n",
      "Root Mean squared error: 125.15\n"
     ]
    }
   ],
   "source": [
    "x= np.c_[np.ones(len(f)),f['minute']]\n",
    "y= np.array(f['pickups'], ndmin=2).T\n",
    "regr.fit(x,y)\n",
    "print(regr.coef_)\n",
    "print(\"Mean Absolute error (MAE): %.2f\"% np.mean(abs(regr.predict(x) - y)))\n",
    "# The mean squared error\n",
    "print(\"Root Mean squared error: %.2f\"\n",
    "      % np.sqrt(np.mean((regr.predict(x) - y) ** 2)))"
   ]
  },
  {
   "cell_type": "markdown",
   "metadata": {},
   "source": [
    "When the magnitude to the intercept is much higher than the other coefficients, it's usally a bad sign. Why?"
   ]
  },
  {
   "cell_type": "code",
   "execution_count": 33,
   "metadata": {
    "collapsed": false
   },
   "outputs": [
    {
     "data": {
      "text/plain": [
       "LinearRegression(copy_X=True, fit_intercept=False, n_jobs=1, normalize=False)"
      ]
     },
     "execution_count": 33,
     "metadata": {},
     "output_type": "execute_result"
    }
   ],
   "source": [
    "#Same code as above, just for reference (and to initialize the variables, just in case...)\n",
    "\n",
    "x= np.c_[np.ones(len(f)),f['hour']]\n",
    "y= np.array(f['pickups'], ndmin=2).T\n",
    "\n",
    "regr=linear_model.LinearRegression(fit_intercept=False)\n",
    "regr.fit(x, y)\n"
   ]
  },
  {
   "cell_type": "markdown",
   "metadata": {},
   "source": [
    "Just double checking. Are the OLS conditions verified?\n"
   ]
  },
  {
   "cell_type": "markdown",
   "metadata": {},
   "source": [
    "We now do not know the true distribution. We only have the data. \n",
    "\n",
    "For the expected value of epsilon, $E(\\epsilon_j)$, we will average from the sample. We have done this exact same thing before, remember?\n"
   ]
  },
  {
   "cell_type": "code",
   "execution_count": 34,
   "metadata": {
    "collapsed": false
   },
   "outputs": [
    {
     "name": "stdout",
     "output_type": "stream",
     "text": [
      "Expected value of the error (or Average error, AE): 0.00\n"
     ]
    }
   ],
   "source": [
    "print(\"Expected value of the error (or Average error, AE): %.2f\" % np.mean(regr.predict(x) - y))"
   ]
  },
  {
   "cell_type": "markdown",
   "metadata": {},
   "source": [
    "For the variance, we can apply the formula in the slides, $s^2=\\frac{\\epsilon^T \\epsilon}{n-2}$"
   ]
  },
  {
   "cell_type": "code",
   "execution_count": 35,
   "metadata": {
    "collapsed": false
   },
   "outputs": [],
   "source": [
    "def variance(error, N):\n",
    "    e=np.array(error) #converting to numpy vector, just in case it comes as a list\n",
    "                      #otherwise, the dot product (np.dot) will not work at all\n",
    "    return np.dot(e.T, e)/(N-2)"
   ]
  },
  {
   "cell_type": "code",
   "execution_count": 36,
   "metadata": {
    "collapsed": false
   },
   "outputs": [
    {
     "name": "stdout",
     "output_type": "stream",
     "text": [
      "variance of all data is: [[ 9966.79630128]]\n"
     ]
    }
   ],
   "source": [
    "error=regr.predict(x) - y\n",
    "\n",
    "print \"variance of all data is:\", variance(error, len(f))"
   ]
  },
  {
   "cell_type": "markdown",
   "metadata": {},
   "source": [
    "But, how do we know if it is in fact a constant variance?\n",
    "\n",
    "In fact, we really can't! We can assume it and make some basic checks to see it is obviously false.\n",
    "\n",
    "For example, we can split the dataset into two chunks, and check if the variance is the same... An idea: divide data into before noon and after noon."
   ]
  },
  {
   "cell_type": "code",
   "execution_count": 37,
   "metadata": {
    "collapsed": false
   },
   "outputs": [],
   "source": [
    "fmorning=f.loc[f['hour'] <= 12]\n",
    "fafternoon=f.loc[f['hour'] > 12]"
   ]
  },
  {
   "cell_type": "markdown",
   "metadata": {},
   "source": [
    "let's now compare the variances in the model"
   ]
  },
  {
   "cell_type": "code",
   "execution_count": 38,
   "metadata": {
    "collapsed": true
   },
   "outputs": [],
   "source": [
    "x_morning=np.c_[np.ones(len(fmorning)),fmorning['hour']]\n"
   ]
  },
  {
   "cell_type": "code",
   "execution_count": 39,
   "metadata": {
    "collapsed": false
   },
   "outputs": [
    {
     "name": "stdout",
     "output_type": "stream",
     "text": [
      "variance of morning data is: [[ 11522.29982083]]\n",
      "variance of morning data is: [[ 8128.63472994]]\n"
     ]
    }
   ],
   "source": [
    "x_morning=np.c_[np.ones(len(fmorning)),fmorning['hour']]\n",
    "y_morning=np.array(fmorning['pickups'], ndmin=2).T\n",
    "error_morning=regr.predict(x_morning) - y_morning\n",
    "\n",
    "print \"variance of morning data is:\", variance(error_morning, len(fmorning))\n",
    "\n",
    "x_afternoon=np.c_[np.ones(len(fafternoon)),fafternoon['hour']]\n",
    "y_afternoon=np.array(fafternoon['pickups'], ndmin=2).T\n",
    "error_afternoon=regr.predict(x_afternoon) - y_afternoon\n",
    "\n",
    "print \"variance of morning data is:\", variance(error_afternoon, len(fafternoon))\n",
    "\n"
   ]
  },
  {
   "cell_type": "markdown",
   "metadata": {},
   "source": [
    "so... a little different, uh? Since the two datasets are extremely large, we can assume that indeed the true variance is not constant. A solution would be to create two separate models (one for morning, another for the afternoon). Let's keep it this way for now. "
   ]
  },
  {
   "cell_type": "code",
   "execution_count": 40,
   "metadata": {
    "collapsed": false
   },
   "outputs": [
    {
     "data": {
      "text/plain": [
       "LinearRegression(copy_X=True, fit_intercept=False, n_jobs=1, normalize=False)"
      ]
     },
     "execution_count": 40,
     "metadata": {},
     "output_type": "execute_result"
    }
   ],
   "source": [
    "x=np.c_[np.ones(len(f)),f['hour'], f['minute']]\n",
    "y= np.array(f['pickups'], ndmin=2).T\n",
    "\n",
    "regr=linear_model.LinearRegression(fit_intercept=False)\n",
    "regr.fit(x, y)"
   ]
  },
  {
   "cell_type": "markdown",
   "metadata": {},
   "source": [
    "It is now very difficult to visualize, with two x variables!\n",
    "\n",
    "So, we will now use a 45 degree plot (predicted pickups VS observed pickups)"
   ]
  },
  {
   "cell_type": "code",
   "execution_count": 41,
   "metadata": {
    "collapsed": false
   },
   "outputs": [
    {
     "data": {
      "image/png": "[encoded data removed]",
      "text/plain": [
       "<matplotlib.figure.Figure at 0x11097c5d0>"
      ]
     },
     "metadata": {},
     "output_type": "display_data"
    }
   ],
   "source": [
    "plt.scatter(y, regr.predict(x))\n",
    "plt.xlabel(\"predicted\")\n",
    "plt.ylabel(\"observed\")\n",
    "plt.plot([0, 400], [0, 400], color=\"red\")\n",
    "plt.show()"
   ]
  },
  {
   "cell_type": "markdown",
   "metadata": {},
   "source": [
    "Hmmm... it looks TERRIBLE!... What are the error statistics now?"
   ]
  },
  {
   "cell_type": "code",
   "execution_count": 42,
   "metadata": {
    "collapsed": false
   },
   "outputs": [
    {
     "name": "stdout",
     "output_type": "stream",
     "text": [
      "Mean Absolute error (MAE): 80.60\n",
      "Root Mean squared error: 99.83\n"
     ]
    }
   ],
   "source": [
    "print(\"Mean Absolute error (MAE): %.2f\"% np.mean(abs(regr.predict(x) - y)))\n",
    "# The mean squared error\n",
    "print(\"Root Mean squared error: %.2f\"\n",
    "      % np.sqrt(np.mean((regr.predict(x) - y) ** 2)))"
   ]
  },
  {
   "cell_type": "markdown",
   "metadata": {},
   "source": [
    "Wow, it did NOT improve AT ALL!!!!  :-("
   ]
  },
  {
   "cell_type": "code",
   "execution_count": 44,
   "metadata": {
    "collapsed": false
   },
   "outputs": [
    {
     "data": {
      "text/html": [
       "<div>\n",
       "<table border=\"1\" class=\"dataframe\">\n",
       "  <thead>\n",
       "    <tr style=\"text-align: right;\">\n",
       "      <th></th>\n",
       "      <th>hour</th>\n",
       "      <th>minute</th>\n",
       "      <th>pickups</th>\n",
       "    </tr>\n",
       "  </thead>\n",
       "  <tbody>\n",
       "    <tr>\n",
       "      <th>hour</th>\n",
       "      <td>1.000000</td>\n",
       "      <td>0.000000</td>\n",
       "      <td>0.603024</td>\n",
       "    </tr>\n",
       "    <tr>\n",
       "      <th>minute</th>\n",
       "      <td>0.000000</td>\n",
       "      <td>1.000000</td>\n",
       "      <td>0.005164</td>\n",
       "    </tr>\n",
       "    <tr>\n",
       "      <th>pickups</th>\n",
       "      <td>0.603024</td>\n",
       "      <td>0.005164</td>\n",
       "      <td>1.000000</td>\n",
       "    </tr>\n",
       "  </tbody>\n",
       "</table>\n",
       "</div>"
      ],
      "text/plain": [
       "             hour    minute   pickups\n",
       "hour     1.000000  0.000000  0.603024\n",
       "minute   0.000000  1.000000  0.005164\n",
       "pickups  0.603024  0.005164  1.000000"
      ]
     },
     "execution_count": 44,
     "metadata": {},
     "output_type": "execute_result"
    }
   ],
   "source": [
    "f.corr()"
   ]
  },
  {
   "cell_type": "code",
   "execution_count": 45,
   "metadata": {
    "collapsed": true
   },
   "outputs": [],
   "source": [
    "def buildLaggedFeatures(s,columns, lag=2,dropna=True):\n",
    "    '''\n",
    "    From http://stackoverflow.com/questions/20410312/how-to-create-a-lagged-data-structure-using-pandas-dataframe\n",
    "    Builds a new DataFrame to facilitate regressing over all possible lagged features\n",
    "    '''\n",
    "    if type(s) is pd.DataFrame:\n",
    "        new_dict={}\n",
    "        for c in s.columns:\n",
    "            new_dict[c]=s[c]\n",
    "        for col_name in columns:\n",
    "            new_dict[col_name]=s[col_name]\n",
    "            # create lagged Series\n",
    "            for l in range(1,lag+1):\n",
    "                new_dict['%s_lag%d' %(col_name,l)]=s[col_name].shift(l)\n",
    "        res=pd.DataFrame(new_dict,index=s.index)\n",
    "\n",
    "    elif type(s) is pd.Series:\n",
    "        the_range=range(lag+1)\n",
    "        res=pd.concat([s.shift(i) for i in the_range],axis=1)\n",
    "        res.columns=['lag_%d' %i for i in the_range]\n",
    "    else:\n",
    "        print 'Only works for DataFrame or Series'\n",
    "        return None\n",
    "    if dropna:\n",
    "        return res.dropna()\n",
    "    else:\n",
    "        return res "
   ]
  },
  {
   "cell_type": "code",
   "execution_count": 46,
   "metadata": {
    "collapsed": false
   },
   "outputs": [],
   "source": [
    "f_lagged=buildLaggedFeatures(f, ['pickups'], lag=2)\n",
    "fllen=len(f_lagged)"
   ]
  },
  {
   "cell_type": "code",
   "execution_count": 47,
   "metadata": {
    "collapsed": false
   },
   "outputs": [
    {
     "data": {
      "text/html": [
       "<div>\n",
       "<table border=\"1\" class=\"dataframe\">\n",
       "  <thead>\n",
       "    <tr style=\"text-align: right;\">\n",
       "      <th></th>\n",
       "      <th>date</th>\n",
       "      <th>hour</th>\n",
       "      <th>minute</th>\n",
       "      <th>pickups</th>\n",
       "      <th>pickups_lag1</th>\n",
       "      <th>pickups_lag2</th>\n",
       "    </tr>\n",
       "  </thead>\n",
       "  <tbody>\n",
       "    <tr>\n",
       "      <th>2</th>\n",
       "      <td>2009-01-01</td>\n",
       "      <td>0</td>\n",
       "      <td>30</td>\n",
       "      <td>215</td>\n",
       "      <td>166</td>\n",
       "      <td>0</td>\n",
       "    </tr>\n",
       "    <tr>\n",
       "      <th>3</th>\n",
       "      <td>2009-01-01</td>\n",
       "      <td>0</td>\n",
       "      <td>45</td>\n",
       "      <td>223</td>\n",
       "      <td>215</td>\n",
       "      <td>166</td>\n",
       "    </tr>\n",
       "    <tr>\n",
       "      <th>4</th>\n",
       "      <td>2009-01-01</td>\n",
       "      <td>1</td>\n",
       "      <td>0</td>\n",
       "      <td>245</td>\n",
       "      <td>223</td>\n",
       "      <td>215</td>\n",
       "    </tr>\n",
       "    <tr>\n",
       "      <th>5</th>\n",
       "      <td>2009-01-01</td>\n",
       "      <td>1</td>\n",
       "      <td>15</td>\n",
       "      <td>182</td>\n",
       "      <td>245</td>\n",
       "      <td>223</td>\n",
       "    </tr>\n",
       "    <tr>\n",
       "      <th>6</th>\n",
       "      <td>2009-01-01</td>\n",
       "      <td>1</td>\n",
       "      <td>30</td>\n",
       "      <td>181</td>\n",
       "      <td>182</td>\n",
       "      <td>245</td>\n",
       "    </tr>\n",
       "  </tbody>\n",
       "</table>\n",
       "</div>"
      ],
      "text/plain": [
       "         date  hour  minute  pickups  pickups_lag1  pickups_lag2\n",
       "2  2009-01-01     0      30      215           166             0\n",
       "3  2009-01-01     0      45      223           215           166\n",
       "4  2009-01-01     1       0      245           223           215\n",
       "5  2009-01-01     1      15      182           245           223\n",
       "6  2009-01-01     1      30      181           182           245"
      ]
     },
     "execution_count": 47,
     "metadata": {},
     "output_type": "execute_result"
    }
   ],
   "source": [
    "f_lagged.head()"
   ]
  },
  {
   "cell_type": "code",
   "execution_count": 48,
   "metadata": {
    "collapsed": false
   },
   "outputs": [
    {
     "data": {
      "text/plain": [
       "<matplotlib.collections.PathCollection at 0x123662bd0>"
      ]
     },
     "execution_count": 48,
     "metadata": {},
     "output_type": "execute_result"
    },
    {
     "data": {
      "image/png": "[encoded data removed]",
      "text/plain": [
       "<matplotlib.figure.Figure at 0x110f74b90>"
      ]
     },
     "metadata": {},
     "output_type": "display_data"
    }
   ],
   "source": [
    "plt.scatter(f_lagged['pickups'], f_lagged['pickups_lag1'], s=0.5)"
   ]
  },
  {
   "cell_type": "code",
   "execution_count": 49,
   "metadata": {
    "collapsed": false
   },
   "outputs": [],
   "source": [
    "x=np.c_[np.ones(len(f_lagged)),f_lagged['pickups_lag1'], f_lagged['pickups_lag2']]"
   ]
  },
  {
   "cell_type": "code",
   "execution_count": 50,
   "metadata": {
    "collapsed": true
   },
   "outputs": [],
   "source": [
    "y=np.array(f_lagged['pickups'], ndmin=2).T"
   ]
  },
  {
   "cell_type": "code",
   "execution_count": 51,
   "metadata": {
    "collapsed": false
   },
   "outputs": [
    {
     "data": {
      "text/plain": [
       "LinearRegression(copy_X=True, fit_intercept=False, n_jobs=1, normalize=False)"
      ]
     },
     "execution_count": 51,
     "metadata": {},
     "output_type": "execute_result"
    }
   ],
   "source": [
    "regr=linear_model.LinearRegression(fit_intercept=False)\n",
    "regr.fit(x, y)"
   ]
  },
  {
   "cell_type": "code",
   "execution_count": 219,
   "metadata": {
    "collapsed": false
   },
   "outputs": [
    {
     "data": {
      "image/png": "[encoded data removed]",
      "text/plain": [
       "<matplotlib.figure.Figure at 0x110ad9a10>"
      ]
     },
     "metadata": {},
     "output_type": "display_data"
    }
   ],
   "source": [
    "plt.scatter(y, regr.predict(x))\n",
    "plt.xlabel(\"observed\")\n",
    "plt.ylabel(\"predicted\")\n",
    "plt.plot([0, 700], [0, 700], color=\"red\")\n",
    "plt.show()"
   ]
  },
  {
   "cell_type": "code",
   "execution_count": 220,
   "metadata": {
    "collapsed": false,
    "scrolled": true
   },
   "outputs": [
    {
     "name": "stdout",
     "output_type": "stream",
     "text": [
      "Mean Absolute error (MAE): 20.39\n",
      "Root Mean squared error: 26.85\n"
     ]
    }
   ],
   "source": [
    "print(\"Mean Absolute error (MAE): %.2f\"% np.mean(abs(regr.predict(x) - y)))\n",
    "# The mean squared error\n",
    "print(\"Root Mean squared error: %.2f\"\n",
    "      % np.sqrt(np.mean((regr.predict(x) - y) ** 2)))"
   ]
  },
  {
   "cell_type": "code",
   "execution_count": 213,
   "metadata": {
    "collapsed": false
   },
   "outputs": [
    {
     "name": "stdout",
     "output_type": "stream",
     "text": [
      "('Coefficients: \\n', array([[  5.30465767e+00,   9.71728221e-01,   5.09589615e-03]]))\n",
      "Root Mean squared error: 26.85\n",
      "Variance score: 0.95\n"
     ]
    },
    {
     "data": {
      "image/png": "[encoded data removed]",
      "text/plain": [
       "<matplotlib.figure.Figure at 0x127f05490>"
      ]
     },
     "metadata": {},
     "output_type": "display_data"
    }
   ],
   "source": [
    "my_plot(regr, x, y)"
   ]
  },
  {
   "cell_type": "code",
   "execution_count": 111,
   "metadata": {
    "collapsed": false
   },
   "outputs": [
    {
     "name": "stdout",
     "output_type": "stream",
     "text": [
      "('Coefficients: \\n', array([[ 0.67497302]]))\n",
      "Root Mean squared error: 92.34\n",
      "Variance score: 0.46\n"
     ]
    },
    {
     "data": {
      "image/png": "[encoded data removed]",
      "text/plain": [
       "<matplotlib.figure.Figure at 0x26eb75b50>"
      ]
     },
     "metadata": {},
     "output_type": "display_data"
    }
   ],
   "source": [
    "x=np.array(f_lagged['pickups_lag8'], ndmin=2).T\n",
    "regr.fit(x, y)\n",
    "my_plot(regr, x, y)"
   ]
  },
  {
   "cell_type": "code",
   "execution_count": 112,
   "metadata": {
    "collapsed": false
   },
   "outputs": [
    {
     "data": {
      "text/html": [
       "<div>\n",
       "<table border=\"1\" class=\"dataframe\">\n",
       "  <thead>\n",
       "    <tr style=\"text-align: right;\">\n",
       "      <th></th>\n",
       "      <th>hour</th>\n",
       "      <th>minute</th>\n",
       "      <th>pickups</th>\n",
       "      <th>pickups_lag1</th>\n",
       "      <th>pickups_lag2</th>\n",
       "      <th>pickups_lag3</th>\n",
       "      <th>pickups_lag4</th>\n",
       "      <th>pickups_lag5</th>\n",
       "      <th>pickups_lag6</th>\n",
       "      <th>pickups_lag7</th>\n",
       "      <th>pickups_lag8</th>\n",
       "    </tr>\n",
       "  </thead>\n",
       "  <tbody>\n",
       "    <tr>\n",
       "      <th>hour</th>\n",
       "      <td>1.000000e+00</td>\n",
       "      <td>1.862985e-21</td>\n",
       "      <td>0.603031</td>\n",
       "      <td>0.602306</td>\n",
       "      <td>0.597127</td>\n",
       "      <td>0.586995</td>\n",
       "      <td>0.573260</td>\n",
       "      <td>0.557828</td>\n",
       "      <td>0.538191</td>\n",
       "      <td>0.514636</td>\n",
       "      <td>0.487869</td>\n",
       "    </tr>\n",
       "    <tr>\n",
       "      <th>minute</th>\n",
       "      <td>1.862985e-21</td>\n",
       "      <td>1.000000e+00</td>\n",
       "      <td>0.005157</td>\n",
       "      <td>-0.000352</td>\n",
       "      <td>-0.005007</td>\n",
       "      <td>0.000213</td>\n",
       "      <td>0.005158</td>\n",
       "      <td>-0.000353</td>\n",
       "      <td>-0.005007</td>\n",
       "      <td>0.000216</td>\n",
       "      <td>0.005169</td>\n",
       "    </tr>\n",
       "    <tr>\n",
       "      <th>pickups</th>\n",
       "      <td>6.030310e-01</td>\n",
       "      <td>5.157070e-03</td>\n",
       "      <td>1.000000</td>\n",
       "      <td>0.976707</td>\n",
       "      <td>0.954193</td>\n",
       "      <td>0.922649</td>\n",
       "      <td>0.883666</td>\n",
       "      <td>0.836886</td>\n",
       "      <td>0.785305</td>\n",
       "      <td>0.731071</td>\n",
       "      <td>0.674974</td>\n",
       "    </tr>\n",
       "    <tr>\n",
       "      <th>pickups_lag1</th>\n",
       "      <td>6.023058e-01</td>\n",
       "      <td>-3.523009e-04</td>\n",
       "      <td>0.976707</td>\n",
       "      <td>1.000000</td>\n",
       "      <td>0.976707</td>\n",
       "      <td>0.954193</td>\n",
       "      <td>0.922649</td>\n",
       "      <td>0.883666</td>\n",
       "      <td>0.836887</td>\n",
       "      <td>0.785305</td>\n",
       "      <td>0.731070</td>\n",
       "    </tr>\n",
       "    <tr>\n",
       "      <th>pickups_lag2</th>\n",
       "      <td>5.971272e-01</td>\n",
       "      <td>-5.007260e-03</td>\n",
       "      <td>0.954193</td>\n",
       "      <td>0.976707</td>\n",
       "      <td>1.000000</td>\n",
       "      <td>0.976707</td>\n",
       "      <td>0.954193</td>\n",
       "      <td>0.922649</td>\n",
       "      <td>0.883666</td>\n",
       "      <td>0.836887</td>\n",
       "      <td>0.785303</td>\n",
       "    </tr>\n",
       "    <tr>\n",
       "      <th>pickups_lag3</th>\n",
       "      <td>5.869955e-01</td>\n",
       "      <td>2.134090e-04</td>\n",
       "      <td>0.922649</td>\n",
       "      <td>0.954193</td>\n",
       "      <td>0.976707</td>\n",
       "      <td>1.000000</td>\n",
       "      <td>0.976706</td>\n",
       "      <td>0.954192</td>\n",
       "      <td>0.922649</td>\n",
       "      <td>0.883666</td>\n",
       "      <td>0.836884</td>\n",
       "    </tr>\n",
       "    <tr>\n",
       "      <th>pickups_lag4</th>\n",
       "      <td>5.732604e-01</td>\n",
       "      <td>5.157725e-03</td>\n",
       "      <td>0.883666</td>\n",
       "      <td>0.922649</td>\n",
       "      <td>0.954193</td>\n",
       "      <td>0.976706</td>\n",
       "      <td>1.000000</td>\n",
       "      <td>0.976706</td>\n",
       "      <td>0.954192</td>\n",
       "      <td>0.922648</td>\n",
       "      <td>0.883660</td>\n",
       "    </tr>\n",
       "    <tr>\n",
       "      <th>pickups_lag5</th>\n",
       "      <td>5.578282e-01</td>\n",
       "      <td>-3.530220e-04</td>\n",
       "      <td>0.836886</td>\n",
       "      <td>0.883666</td>\n",
       "      <td>0.922649</td>\n",
       "      <td>0.954192</td>\n",
       "      <td>0.976706</td>\n",
       "      <td>1.000000</td>\n",
       "      <td>0.976706</td>\n",
       "      <td>0.954192</td>\n",
       "      <td>0.922643</td>\n",
       "    </tr>\n",
       "    <tr>\n",
       "      <th>pickups_lag6</th>\n",
       "      <td>5.381906e-01</td>\n",
       "      <td>-5.006660e-03</td>\n",
       "      <td>0.785305</td>\n",
       "      <td>0.836887</td>\n",
       "      <td>0.883666</td>\n",
       "      <td>0.922649</td>\n",
       "      <td>0.954192</td>\n",
       "      <td>0.976706</td>\n",
       "      <td>1.000000</td>\n",
       "      <td>0.976706</td>\n",
       "      <td>0.954187</td>\n",
       "    </tr>\n",
       "    <tr>\n",
       "      <th>pickups_lag7</th>\n",
       "      <td>5.146355e-01</td>\n",
       "      <td>2.164413e-04</td>\n",
       "      <td>0.731071</td>\n",
       "      <td>0.785305</td>\n",
       "      <td>0.836887</td>\n",
       "      <td>0.883666</td>\n",
       "      <td>0.922648</td>\n",
       "      <td>0.954192</td>\n",
       "      <td>0.976706</td>\n",
       "      <td>1.000000</td>\n",
       "      <td>0.976703</td>\n",
       "    </tr>\n",
       "    <tr>\n",
       "      <th>pickups_lag8</th>\n",
       "      <td>4.878689e-01</td>\n",
       "      <td>5.168819e-03</td>\n",
       "      <td>0.674974</td>\n",
       "      <td>0.731070</td>\n",
       "      <td>0.785303</td>\n",
       "      <td>0.836884</td>\n",
       "      <td>0.883660</td>\n",
       "      <td>0.922643</td>\n",
       "      <td>0.954187</td>\n",
       "      <td>0.976703</td>\n",
       "      <td>1.000000</td>\n",
       "    </tr>\n",
       "  </tbody>\n",
       "</table>\n",
       "</div>"
      ],
      "text/plain": [
       "                      hour        minute   pickups  pickups_lag1  \\\n",
       "hour          1.000000e+00  1.862985e-21  0.603031      0.602306   \n",
       "minute        1.862985e-21  1.000000e+00  0.005157     -0.000352   \n",
       "pickups       6.030310e-01  5.157070e-03  1.000000      0.976707   \n",
       "pickups_lag1  6.023058e-01 -3.523009e-04  0.976707      1.000000   \n",
       "pickups_lag2  5.971272e-01 -5.007260e-03  0.954193      0.976707   \n",
       "pickups_lag3  5.869955e-01  2.134090e-04  0.922649      0.954193   \n",
       "pickups_lag4  5.732604e-01  5.157725e-03  0.883666      0.922649   \n",
       "pickups_lag5  5.578282e-01 -3.530220e-04  0.836886      0.883666   \n",
       "pickups_lag6  5.381906e-01 -5.006660e-03  0.785305      0.836887   \n",
       "pickups_lag7  5.146355e-01  2.164413e-04  0.731071      0.785305   \n",
       "pickups_lag8  4.878689e-01  5.168819e-03  0.674974      0.731070   \n",
       "\n",
       "              pickups_lag2  pickups_lag3  pickups_lag4  pickups_lag5  \\\n",
       "hour              0.597127      0.586995      0.573260      0.557828   \n",
       "minute           -0.005007      0.000213      0.005158     -0.000353   \n",
       "pickups           0.954193      0.922649      0.883666      0.836886   \n",
       "pickups_lag1      0.976707      0.954193      0.922649      0.883666   \n",
       "pickups_lag2      1.000000      0.976707      0.954193      0.922649   \n",
       "pickups_lag3      0.976707      1.000000      0.976706      0.954192   \n",
       "pickups_lag4      0.954193      0.976706      1.000000      0.976706   \n",
       "pickups_lag5      0.922649      0.954192      0.976706      1.000000   \n",
       "pickups_lag6      0.883666      0.922649      0.954192      0.976706   \n",
       "pickups_lag7      0.836887      0.883666      0.922648      0.954192   \n",
       "pickups_lag8      0.785303      0.836884      0.883660      0.922643   \n",
       "\n",
       "              pickups_lag6  pickups_lag7  pickups_lag8  \n",
       "hour              0.538191      0.514636      0.487869  \n",
       "minute           -0.005007      0.000216      0.005169  \n",
       "pickups           0.785305      0.731071      0.674974  \n",
       "pickups_lag1      0.836887      0.785305      0.731070  \n",
       "pickups_lag2      0.883666      0.836887      0.785303  \n",
       "pickups_lag3      0.922649      0.883666      0.836884  \n",
       "pickups_lag4      0.954192      0.922648      0.883660  \n",
       "pickups_lag5      0.976706      0.954192      0.922643  \n",
       "pickups_lag6      1.000000      0.976706      0.954187  \n",
       "pickups_lag7      0.976706      1.000000      0.976703  \n",
       "pickups_lag8      0.954187      0.976703      1.000000  "
      ]
     },
     "execution_count": 112,
     "metadata": {},
     "output_type": "execute_result"
    }
   ],
   "source": [
    "f_lagged.corr()"
   ]
  },
  {
   "cell_type": "code",
   "execution_count": null,
   "metadata": {
    "collapsed": true
   },
   "outputs": [],
   "source": []
  }
 ],
 "metadata": {
  "kernelspec": {
   "display_name": "Python 3",
   "language": "python",
   "name": "python3"
  },
  "language_info": {
   "codemirror_mode": {
    "name": "ipython",
    "version": 3
   },
   "file_extension": ".py",
   "mimetype": "text/x-python",
   "name": "python",
   "nbconvert_exporter": "python",
   "pygments_lexer": "ipython3",
   "version": "3.6.2"
  }
 },
 "nbformat": 4,
 "nbformat_minor": 0
}
